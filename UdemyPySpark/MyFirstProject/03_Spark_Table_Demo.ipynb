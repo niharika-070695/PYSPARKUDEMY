{
 "cells": [
  {
   "cell_type": "code",
   "execution_count": 0,
   "metadata": {
    "application/vnd.databricks.v1+cell": {
     "cellMetadata": {
      "byteLimit": 2048000,
      "rowLimit": 10000
     },
     "inputWidgets": {},
     "nuid": "b6b31080-5302-4e3e-b0b1-8689a6615307",
     "showTitle": false,
     "tableResultSettingsMap": {},
     "title": ""
    }
   },
   "outputs": [],
   "source": [
    "%sql\n",
    "\n",
    "create database if not exists demo_db\n"
   ]
  },
  {
   "cell_type": "code",
   "execution_count": 0,
   "metadata": {
    "application/vnd.databricks.v1+cell": {
     "cellMetadata": {
      "byteLimit": 2048000,
      "rowLimit": 10000
     },
     "inputWidgets": {},
     "nuid": "3ea293c3-81cf-43e8-a90d-a16742b318ab",
     "showTitle": false,
     "tableResultSettingsMap": {},
     "title": ""
    }
   },
   "outputs": [],
   "source": [
    "%sql\n",
    "create table if not exists demo_db.fire_service_calls_tbl(\n",
    "  CallNumber integer,\n",
    "  UnitID string,\n",
    "  IncidentNumber integer,\n",
    "  CallType string,\n",
    "  CallDate string,\n",
    "  WatchDate string,\n",
    "  CallFinalDisposition string,\n",
    "  AvailableDtTm string,\n",
    "  Address string,\n",
    "  City string,\n",
    "  Zipcode integer,\n",
    "  Battalion string,\n",
    "  StationArea string,\n",
    "  Box string,\n",
    "  OriginalPriority string,\n",
    "  Priority string,\n",
    "  FinalPriority integer,\n",
    "  ALSUnit boolean,\n",
    "  CallTypeGroup string,\n",
    "  NumAlarms integer,\n",
    "  UnitType string,\n",
    "  UnitSequenceInCallDispatch integer,\n",
    "  FirePreventionDistrict string,\n",
    "  SupervisorDistrict string,\n",
    "  Neighborhood string,\n",
    "  Location string,\n",
    "  RowID string,\n",
    "  Delay float\n",
    ") using delta"
   ]
  },
  {
   "cell_type": "code",
   "execution_count": 0,
   "metadata": {
    "application/vnd.databricks.v1+cell": {
     "cellMetadata": {
      "byteLimit": 2048000,
      "rowLimit": 10000
     },
     "inputWidgets": {},
     "nuid": "11583377-8a71-4395-bbd0-a4e374697d87",
     "showTitle": false,
     "tableResultSettingsMap": {},
     "title": ""
    }
   },
   "outputs": [],
   "source": [
    "%sql\n",
    "INSERT INTO demo_db.fire_service_calls_tbl VALUES (\n",
    "  1001,                            -- CallNumber\n",
    "  'E231',                         -- UnitID\n",
    "  200001,                         -- IncidentNumber\n",
    "  'Medical Incident',            -- CallType\n",
    "  '2023-07-01',                  -- CallDate\n",
    "  '2023-07-01',                  -- WatchDate\n",
    "  'Closed',                      -- CallFinalDisposition\n",
    "  '2023-07-01T14:45:00',         -- AvailableDtTm\n",
    "  '123 Main St',                 -- Address\n",
    "  'San Francisco',               -- City\n",
    "  94102,                         -- Zipcode\n",
    "  'B01',                         -- Battalion\n",
    "  'S01',                         -- StationArea\n",
    "  '1234',                        -- Box\n",
    "  '3',                           -- OriginalPriority\n",
    "  '3',                           -- Priority\n",
    "  3,                             -- FinalPriority\n",
    "  TRUE,                          -- ALSUnit\n",
    "  'Medical',                     -- CallTypeGroup\n",
    "  1,                             -- NumAlarms\n",
    "  'Engine',                      -- UnitType\n",
    "  1,                             -- UnitSequenceInCallDispatch\n",
    "  'FPD1',                        -- FirePreventionDistrict\n",
    "  'SD1',                         -- SupervisorDistrict\n",
    "  'Downtown',                    -- Neighborhood\n",
    "  '(37.7749, -122.4194)',        -- Location\n",
    "  'abc123',                      -- RowID\n",
    "  5.2                            -- Delay\n",
    ");\n"
   ]
  },
  {
   "cell_type": "code",
   "execution_count": 0,
   "metadata": {
    "application/vnd.databricks.v1+cell": {
     "cellMetadata": {
      "byteLimit": 2048000,
      "implicitDf": true,
      "rowLimit": 10000
     },
     "inputWidgets": {},
     "nuid": "2f962d4a-f00d-4a40-892d-b637c1996d26",
     "showTitle": false,
     "tableResultSettingsMap": {},
     "title": ""
    }
   },
   "outputs": [],
   "source": [
    "%sql\n",
    "select * from demo_db.fire_service_calls_tbl"
   ]
  },
  {
   "cell_type": "code",
   "execution_count": 0,
   "metadata": {
    "application/vnd.databricks.v1+cell": {
     "cellMetadata": {
      "byteLimit": 2048000,
      "rowLimit": 10000
     },
     "inputWidgets": {},
     "nuid": "586db6bb-f512-4ecb-9744-a030d3821c73",
     "showTitle": false,
     "tableResultSettingsMap": {},
     "title": ""
    }
   },
   "outputs": [],
   "source": [
    "%sql\n",
    "DELETE FROM demo_db.fire_service_calls_tbl\n",
    "WHERE CallNumber = 1001;\n"
   ]
  },
  {
   "cell_type": "code",
   "execution_count": 0,
   "metadata": {
    "application/vnd.databricks.v1+cell": {
     "cellMetadata": {
      "byteLimit": 2048000,
      "rowLimit": 10000
     },
     "inputWidgets": {},
     "nuid": "3197e2b4-12da-4be9-adbc-6b0a42785d21",
     "showTitle": false,
     "tableResultSettingsMap": {},
     "title": ""
    }
   },
   "outputs": [],
   "source": [
    "%sql\n",
    "SELECT * FROM demo_db.fire_service_calls_tbl\n",
    "WHERE CallNumber = 1001;\n"
   ]
  },
  {
   "cell_type": "code",
   "execution_count": 0,
   "metadata": {
    "application/vnd.databricks.v1+cell": {
     "cellMetadata": {
      "byteLimit": 2048000,
      "rowLimit": 10000
     },
     "inputWidgets": {},
     "nuid": "ee2a9604-e734-49ff-bb70-460a832a9d4d",
     "showTitle": false,
     "tableResultSettingsMap": {},
     "title": ""
    }
   },
   "outputs": [],
   "source": [
    "%sql\n",
    "select * from fire_service_calls_view"
   ]
  },
  {
   "cell_type": "code",
   "execution_count": 0,
   "metadata": {
    "application/vnd.databricks.v1+cell": {
     "cellMetadata": {
      "byteLimit": 2048000,
      "rowLimit": 10000
     },
     "inputWidgets": {},
     "nuid": "d54ac7c5-99bc-4db1-b927-5521ae17eef8",
     "showTitle": false,
     "tableResultSettingsMap": {},
     "title": ""
    }
   },
   "outputs": [],
   "source": [
    "fire_df = spark.read.format(\"csv\")\\\n",
    "      .option(\"header\",True)\\\n",
    "          .option(\"inferSchema\",True)\\\n",
    "              .load(\"/Volumes/udemypyspark/default/firstvolume/fire-calls.csv\")"
   ]
  },
  {
   "cell_type": "code",
   "execution_count": 0,
   "metadata": {
    "application/vnd.databricks.v1+cell": {
     "cellMetadata": {
      "byteLimit": 2048000,
      "rowLimit": 10000
     },
     "inputWidgets": {},
     "nuid": "b276bc3d-76a3-42c8-aefd-21b8a9f4f7c8",
     "showTitle": false,
     "tableResultSettingsMap": {},
     "title": ""
    }
   },
   "outputs": [],
   "source": [
    "spark.sql(\"DROP TABLE IF EXISTS demo_db.fire_service_calls_tbl\")\n"
   ]
  },
  {
   "cell_type": "code",
   "execution_count": 0,
   "metadata": {
    "application/vnd.databricks.v1+cell": {
     "cellMetadata": {
      "byteLimit": 2048000,
      "rowLimit": 10000
     },
     "inputWidgets": {},
     "nuid": "288658f0-ff95-4b59-996e-9c817de96c35",
     "showTitle": false,
     "tableResultSettingsMap": {},
     "title": ""
    }
   },
   "outputs": [],
   "source": [
    "fire_df.write.format(\"delta\").mode(\"overwrite\").saveAsTable(\"demo_db.fire_service_calls_tbl\")"
   ]
  },
  {
   "cell_type": "code",
   "execution_count": 0,
   "metadata": {
    "application/vnd.databricks.v1+cell": {
     "cellMetadata": {
      "byteLimit": 2048000,
      "rowLimit": 10000
     },
     "inputWidgets": {},
     "nuid": "a51f235b-115a-4b13-8ec4-8756481dd264",
     "showTitle": false,
     "tableResultSettingsMap": {},
     "title": ""
    }
   },
   "outputs": [],
   "source": [
    "from pyspark.sql.functions import col\n",
    "\n",
    "# Rename columns with invalid characters\n",
    "new_cols = [col(c).alias(c.replace(\" \", \"_\")) for c in fire_df.columns]\n",
    "fire_df_cleaned = fire_df.select(*new_cols)\n",
    "\n",
    "# Save to Delta table\n",
    "fire_df_cleaned.write.format(\"delta\").mode(\"overwrite\").saveAsTable(\"demo_db.fire_service_calls_tbl\")\n"
   ]
  },
  {
   "cell_type": "code",
   "execution_count": 0,
   "metadata": {
    "application/vnd.databricks.v1+cell": {
     "cellMetadata": {
      "byteLimit": 2048000,
      "rowLimit": 10000
     },
     "inputWidgets": {},
     "nuid": "89a94c70-17b8-4e99-bd21-adb2496b5f10",
     "showTitle": false,
     "tableResultSettingsMap": {},
     "title": ""
    }
   },
   "outputs": [],
   "source": [
    "fire_df_cleaned.write.format(\"delta\").mode(\"overwrite\").saveAsTable(\"demo_db.fire_service_calls_tbl\")"
   ]
  },
  {
   "cell_type": "code",
   "execution_count": 0,
   "metadata": {
    "application/vnd.databricks.v1+cell": {
     "cellMetadata": {
      "byteLimit": 2048000,
      "rowLimit": 10000
     },
     "inputWidgets": {},
     "nuid": "e25e0a4e-abec-491b-80f1-e0d30767551e",
     "showTitle": false,
     "tableResultSettingsMap": {},
     "title": ""
    }
   },
   "outputs": [],
   "source": [
    "df = spark.sql(\"SELECT * FROM demo_db.fire_service_calls_tbl\")\n",
    "df.show()\n"
   ]
  },
  {
   "cell_type": "code",
   "execution_count": 0,
   "metadata": {
    "application/vnd.databricks.v1+cell": {
     "cellMetadata": {
      "byteLimit": 2048000,
      "rowLimit": 10000
     },
     "inputWidgets": {},
     "nuid": "648e70a1-60a5-4857-9026-fd39fe8cabb2",
     "showTitle": false,
     "tableResultSettingsMap": {},
     "title": ""
    }
   },
   "outputs": [],
   "source": [
    "display(df)"
   ]
  },
  {
   "cell_type": "code",
   "execution_count": 0,
   "metadata": {
    "application/vnd.databricks.v1+cell": {
     "cellMetadata": {
      "byteLimit": 2048000,
      "rowLimit": 10000
     },
     "inputWidgets": {},
     "nuid": "4b57d04a-b417-4f0a-89a5-1b9af92d83a4",
     "showTitle": false,
     "tableResultSettingsMap": {},
     "title": ""
    }
   },
   "outputs": [],
   "source": [
    "%sql\n",
    "DESCRIBE FORMATTED demo_db.fire_service_calls_tbl\n"
   ]
  },
  {
   "cell_type": "code",
   "execution_count": 0,
   "metadata": {
    "application/vnd.databricks.v1+cell": {
     "cellMetadata": {
      "byteLimit": 2048000,
      "rowLimit": 10000
     },
     "inputWidgets": {},
     "nuid": "963720bc-9672-4728-8692-eed40c28c5ba",
     "showTitle": false,
     "tableResultSettingsMap": {},
     "title": ""
    }
   },
   "outputs": [],
   "source": [
    "%sql\n",
    "SELECT * FROM demo_db.fire_service_calls_tbl"
   ]
  },
  {
   "cell_type": "code",
   "execution_count": 0,
   "metadata": {
    "application/vnd.databricks.v1+cell": {
     "cellMetadata": {
      "byteLimit": 2048000,
      "rowLimit": 10000
     },
     "inputWidgets": {},
     "nuid": "2b83d7bd-9627-473c-b452-f72612ae6a08",
     "showTitle": false,
     "tableResultSettingsMap": {},
     "title": ""
    }
   },
   "outputs": [],
   "source": [
    "%sql\n",
    "select count(*) from demo_db.fire_service_calls_tbl"
   ]
  },
  {
   "cell_type": "markdown",
   "metadata": {
    "application/vnd.databricks.v1+cell": {
     "cellMetadata": {},
     "inputWidgets": {},
     "nuid": "4f4bdc94-b9f5-4991-b005-fb34c6666b4c",
     "showTitle": false,
     "tableResultSettingsMap": {},
     "title": ""
    }
   },
   "source": [
    "### How many distinct types of calls were made to the fire department?"
   ]
  },
  {
   "cell_type": "code",
   "execution_count": 0,
   "metadata": {
    "application/vnd.databricks.v1+cell": {
     "cellMetadata": {
      "byteLimit": 2048000,
      "rowLimit": 10000
     },
     "inputWidgets": {},
     "nuid": "b4838f1a-5317-421b-a601-69fc9a64e787",
     "showTitle": false,
     "tableResultSettingsMap": {},
     "title": ""
    }
   },
   "outputs": [],
   "source": [
    "%sql\n",
    "select count(distinct Call_Type) asdistinct_call_type_count\n",
    "from demo_db.fire_service_calls_tbl where Call_Type is not null"
   ]
  },
  {
   "cell_type": "markdown",
   "metadata": {
    "application/vnd.databricks.v1+cell": {
     "cellMetadata": {},
     "inputWidgets": {},
     "nuid": "a63ff1a7-d8b5-478d-b92a-e673e88c1179",
     "showTitle": false,
     "tableResultSettingsMap": {},
     "title": ""
    }
   },
   "source": [
    "### what were distinct types of calls made to fire department"
   ]
  },
  {
   "cell_type": "code",
   "execution_count": 0,
   "metadata": {
    "application/vnd.databricks.v1+cell": {
     "cellMetadata": {
      "byteLimit": 2048000,
      "rowLimit": 10000
     },
     "inputWidgets": {},
     "nuid": "ff4002a0-d8ac-48e5-92dc-bd56bce64907",
     "showTitle": false,
     "tableResultSettingsMap": {},
     "title": ""
    }
   },
   "outputs": [],
   "source": [
    "%sql\n",
    "select distinct Call_Type from demo_db.fire_service_calls_tbl where Call_type is not null"
   ]
  },
  {
   "cell_type": "markdown",
   "metadata": {
    "application/vnd.databricks.v1+cell": {
     "cellMetadata": {},
     "inputWidgets": {},
     "nuid": "2f9d9b77-1011-4259-91fc-560b00411f96",
     "showTitle": false,
     "tableResultSettingsMap": {},
     "title": ""
    }
   },
   "source": [
    "### what were the most common call types?"
   ]
  },
  {
   "cell_type": "code",
   "execution_count": 0,
   "metadata": {
    "application/vnd.databricks.v1+cell": {
     "cellMetadata": {
      "byteLimit": 2048000,
      "rowLimit": 10000
     },
     "inputWidgets": {},
     "nuid": "ca340fb0-deec-4f59-ae3e-5a7a1072e5a8",
     "showTitle": false,
     "tableResultSettingsMap": {},
     "title": ""
    }
   },
   "outputs": [],
   "source": [
    "%sql\n",
    "select Call_Type,count(*) as count\n",
    "from demo_db.fire_service_calls_tbl\n",
    "where Call_Type is not null\n",
    "group by Call_Type\n",
    "order by count desc"
   ]
  },
  {
   "cell_type": "markdown",
   "metadata": {
    "application/vnd.databricks.v1+cell": {
     "cellMetadata": {},
     "inputWidgets": {},
     "nuid": "8a11e662-c73b-4bb6-af52-a80de20b9507",
     "showTitle": false,
     "tableResultSettingsMap": {},
     "title": ""
    }
   },
   "source": [
    "### what zip codes accounted for most common calls?"
   ]
  },
  {
   "cell_type": "code",
   "execution_count": 0,
   "metadata": {
    "application/vnd.databricks.v1+cell": {
     "cellMetadata": {
      "byteLimit": 2048000,
      "rowLimit": 10000
     },
     "inputWidgets": {},
     "nuid": "2d73d2a0-ac8b-423d-bf2f-2d26e441bd43",
     "showTitle": false,
     "tableResultSettingsMap": {},
     "title": ""
    }
   },
   "outputs": [],
   "source": [
    "%sql\n",
    "select Call_Type,Zipcode_of_Incident,count(*) as count\n",
    "from demo_db.fire_service_calls_tbl\n",
    "where Call_Type is not null\n",
    "group by Call_Type,Zipcode_of_Incident\n",
    "order by count desc"
   ]
  },
  {
   "cell_type": "markdown",
   "metadata": {
    "application/vnd.databricks.v1+cell": {
     "cellMetadata": {},
     "inputWidgets": {},
     "nuid": "9b5a6305-3905-49e0-986b-2e121b3bb4ec",
     "showTitle": false,
     "tableResultSettingsMap": {},
     "title": ""
    }
   },
   "source": [
    "### How many distinct years of data is in the dataset?"
   ]
  },
  {
   "cell_type": "code",
   "execution_count": 0,
   "metadata": {
    "application/vnd.databricks.v1+cell": {
     "cellMetadata": {
      "byteLimit": 2048000,
      "rowLimit": 10000
     },
     "inputWidgets": {},
     "nuid": "c398700d-df16-4d76-b800-c7634eb44e19",
     "showTitle": false,
     "tableResultSettingsMap": {},
     "title": ""
    }
   },
   "outputs": [],
   "source": [
    "%sql\n",
    "select distinct(year(to_date(Call_Date,'MM/dd/yyyy'))) as year_num\n",
    "from demo_db.fire_service_calls_tbl\n",
    "order by year_num desc"
   ]
  },
  {
   "cell_type": "markdown",
   "metadata": {
    "application/vnd.databricks.v1+cell": {
     "cellMetadata": {},
     "inputWidgets": {},
     "nuid": "7b1e361f-0330-477f-911d-5fae1a5d8c36",
     "showTitle": false,
     "tableResultSettingsMap": {},
     "title": ""
    }
   },
   "source": [
    "### what week of year in 2025 had most fire calls?"
   ]
  },
  {
   "cell_type": "code",
   "execution_count": 0,
   "metadata": {
    "application/vnd.databricks.v1+cell": {
     "cellMetadata": {
      "byteLimit": 2048000,
      "rowLimit": 10000
     },
     "inputWidgets": {},
     "nuid": "68f73ed3-ab43-4bfa-a3f9-0c40efad1962",
     "showTitle": false,
     "tableResultSettingsMap": {},
     "title": ""
    }
   },
   "outputs": [],
   "source": [
    "%sql\n",
    "select weekofyear(to_date(Call_Date,'MM/dd/yyyy')) as week_num,count(*) as count\n",
    "from demo_db.fire_service_calls_tbl\n",
    "where year(to_date(Call_Date,'MM/dd/yyyy')) = 2025\n",
    "group by week_num\n",
    "order by count desc"
   ]
  },
  {
   "cell_type": "code",
   "execution_count": 0,
   "metadata": {
    "application/vnd.databricks.v1+cell": {
     "cellMetadata": {
      "byteLimit": 2048000,
      "rowLimit": 10000
     },
     "inputWidgets": {},
     "nuid": "95c7b528-fb3d-4561-8a5d-5b09934a704f",
     "showTitle": false,
     "tableResultSettingsMap": {},
     "title": ""
    }
   },
   "outputs": [],
   "source": [
    "fire_df = spark.read.format(\"csv\")\\\n",
    "      .option(\"header\",True)\\\n",
    "          .option(\"inferSchema\",True)\\\n",
    "              .load(\"/Volumes/udemypyspark/default/firstvolume/fire-calls.csv\")"
   ]
  },
  {
   "cell_type": "code",
   "execution_count": 0,
   "metadata": {
    "application/vnd.databricks.v1+cell": {
     "cellMetadata": {
      "byteLimit": 2048000,
      "rowLimit": 10000
     },
     "inputWidgets": {},
     "nuid": "8769d25d-d3fe-4ab2-a3d9-119f0ba17d96",
     "showTitle": false,
     "tableResultSettingsMap": {},
     "title": ""
    }
   },
   "outputs": [],
   "source": [
    "display(fire_df)"
   ]
  },
  {
   "cell_type": "markdown",
   "metadata": {
    "application/vnd.databricks.v1+cell": {
     "cellMetadata": {},
     "inputWidgets": {},
     "nuid": "4b2bf25e-77d6-4f9d-8565-09f25fdec636",
     "showTitle": false,
     "tableResultSettingsMap": {},
     "title": ""
    }
   },
   "source": []
  }
 ],
 "metadata": {
  "application/vnd.databricks.v1+notebook": {
   "computePreferences": null,
   "dashboards": [],
   "environmentMetadata": {
    "base_environment": "",
    "environment_version": "2"
   },
   "inputWidgetPreferences": null,
   "language": "python",
   "notebookMetadata": {
    "mostRecentlyExecutedCommandWithImplicitDF": {
     "commandId": 8431381176343539,
     "dataframes": [
      "_sqldf"
     ]
    },
    "pythonIndentUnit": 4
   },
   "notebookName": "03_Spark_Table_Demo",
   "widgets": {}
  },
  "language_info": {
   "name": "python"
  }
 },
 "nbformat": 4,
 "nbformat_minor": 0
}
